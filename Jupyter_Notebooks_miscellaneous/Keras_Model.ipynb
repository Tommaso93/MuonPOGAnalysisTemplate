{
 "cells": [
  {
   "cell_type": "code",
   "execution_count": null,
   "metadata": {},
   "outputs": [],
   "source": [
    "import numpy as np\n",
    "import pandas as pd\n",
    "import math\n",
    "from keras.models import Sequential\n",
    "from keras.layers import Dense\n",
    "from keras.layers import Dropout\n",
    "from keras.wrappers.scikit_learn import KerasRegressor\n",
    "from sklearn.model_selection import cross_val_score\n",
    "from sklearn.model_selection import KFold\n",
    "from sklearn.model_selection import cross_val_predict\n",
    "from sklearn.preprocessing import StandardScaler\n",
    "from sklearn.pipeline import Pipeline\n",
    "\n",
    "import matplotlib.pyplot as plt"
   ]
  },
  {
   "cell_type": "markdown",
   "metadata": {},
   "source": [
    "Loading csv data:"
   ]
  },
  {
   "cell_type": "code",
   "execution_count": null,
   "metadata": {},
   "outputs": [],
   "source": [
    "muon_dataframe = pd.read_csv('../MuonPOGAnalysisTemplate/output/bxcut_org.csv')"
   ]
  },
  {
   "cell_type": "code",
   "execution_count": null,
   "metadata": {},
   "outputs": [],
   "source": [
    "def preprocess_features(muon_dataframe):\n",
    "  \"\"\"Prepares input features from Muon data set.\n",
    "\n",
    "  Args:\n",
    "    muon_dataframe: A Pandas DataFrame expected to contain data\n",
    "      from muon simulations\n",
    "  Returns:\n",
    "    A DataFrame that contains the features to be used for the model.\n",
    "  \"\"\"\n",
    "  selected_features = muon_dataframe[\n",
    "['Event',\n",
    " 'n_Primitive',\n",
    " '1dtPrimitive.id_r',\n",
    " '2dtPrimitive.id_r',\n",
    " '3dtPrimitive.id_r',\n",
    " '4dtPrimitive.id_r',\n",
    " '1dtPrimitive.id_eta',\n",
    " '2dtPrimitive.id_eta',\n",
    " '3dtPrimitive.id_eta',\n",
    " '4dtPrimitive.id_eta',\n",
    " '1dtPrimitive.id_phi',\n",
    " '2dtPrimitive.id_phi',\n",
    " '3dtPrimitive.id_phi',\n",
    " '4dtPrimitive.id_phi',\n",
    " '1dtPrimitive.phiB',\n",
    " '2dtPrimitive.phiB',\n",
    " '3dtPrimitive.phiB',\n",
    " '4dtPrimitive.phiB',\n",
    " '1dtPrimitive.quality',\n",
    " '2dtPrimitive.quality',\n",
    " '3dtPrimitive.quality',\n",
    " '4dtPrimitive.quality',\n",
    " 'delta_phi12',\n",
    " 'delta_phi13',\n",
    " 'delta_phi14',\n",
    " 'delta_phi23',\n",
    " 'delta_phi24',\n",
    " 'delta_phi34']]\n",
    "  processed_features = selected_features.copy()\n",
    "  return processed_features.astype(np.float32)\n",
    "\n"
   ]
  },
  {
   "cell_type": "code",
   "execution_count": null,
   "metadata": {},
   "outputs": [],
   "source": [
    "def preprocess_targets(muon_dataframe):\n",
    "  \"\"\"\n",
    "  Prepares target features (i.e., labels) from muon data set.\n",
    "\n",
    "  Args:\n",
    "    muon_dataframe: A Pandas DataFrame expected to contain data\n",
    "      from the Muon data set.\n",
    "  Returns:\n",
    "    A DataFrame that contains the target feature.\n",
    "  \"\"\"\n",
    "  output_targets = pd.DataFrame()\n",
    "  output_targets[\"genParticle.pt\"] = muon_dataframe[\"genParticle.pt\"]\n",
    "  return output_targets.astype(np.float32)"
   ]
  },
  {
   "cell_type": "code",
   "execution_count": null,
   "metadata": {},
   "outputs": [],
   "source": [
    "X = preprocess_features(muon_dataframe)"
   ]
  },
  {
   "cell_type": "code",
   "execution_count": null,
   "metadata": {},
   "outputs": [],
   "source": [
    "Y = preprocess_targets(muon_dataframe)"
   ]
  },
  {
   "cell_type": "code",
   "execution_count": null,
   "metadata": {},
   "outputs": [],
   "source": [
    "def baseline_model():\n",
    "    # create model\n",
    "    model = Sequential()\n",
    "    model.add(Dense(12, input_dim=28, kernel_initializer='uniform', activation='relu'))\n",
    "    model.add(Dropout(rate=0.1))\n",
    "    model.add(Dense(1, kernel_initializer='uniform', activation='sigmoid'))\n",
    "    # Compile model\n",
    "    model.compile(loss='mean_squared_error', optimizer='adagrad')\n",
    "    return model"
   ]
  },
  {
   "cell_type": "code",
   "execution_count": null,
   "metadata": {},
   "outputs": [],
   "source": [
    "# fix random seed for reproducibility\n",
    "seed = 7\n",
    "np.random.seed(seed)\n",
    "# evaluate model with standardized dataset\n",
    "estimator = KerasRegressor(build_fn=baseline_model, epochs=100, batch_size=200, verbose=0)"
   ]
  },
  {
   "cell_type": "code",
   "execution_count": null,
   "metadata": {},
   "outputs": [],
   "source": [
    "kfold = KFold(n_splits=8, random_state=seed)\n",
    "results = cross_val_score(estimator, X, Y, cv=kfold)\n",
    "print(\"Results: %.2f (%.2f) MSE\" % (np.sqrt((-1)*results.mean()), np.sqrt(results.std())))"
   ]
  },
  {
   "cell_type": "code",
   "execution_count": null,
   "metadata": {},
   "outputs": [],
   "source": [
    "predicted = cross_val_predict(estimator, X, Y, cv=kfold)"
   ]
  },
  {
   "cell_type": "code",
   "execution_count": null,
   "metadata": {},
   "outputs": [],
   "source": [
    "fig, ax = plt.subplots()\n",
    "ax.scatter(Y, predicted, edgecolors=(0, 0, 0))\n",
    "ax.plot([Y.min(), Y.max()], [Y.min(), Y.max()], 'k--', lw=4)\n",
    "ax.set_xlabel('Measured')\n",
    "ax.set_ylabel('Predicted')"
   ]
  },
  {
   "cell_type": "code",
   "execution_count": null,
   "metadata": {},
   "outputs": [],
   "source": [
    "plt.show()"
   ]
  },
  {
   "cell_type": "code",
   "execution_count": null,
   "metadata": {},
   "outputs": [],
   "source": []
  }
 ],
 "metadata": {
  "kernelspec": {
   "display_name": "Python 2",
   "language": "python",
   "name": "python2"
  },
  "language_info": {
   "codemirror_mode": {
    "name": "ipython",
    "version": 2
   },
   "file_extension": ".py",
   "mimetype": "text/x-python",
   "name": "python",
   "nbconvert_exporter": "python",
   "pygments_lexer": "ipython2",
   "version": "2.7.14"
  }
 },
 "nbformat": 4,
 "nbformat_minor": 2
}
