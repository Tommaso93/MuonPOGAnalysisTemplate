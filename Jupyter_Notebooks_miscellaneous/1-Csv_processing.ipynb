{
 "cells": [
  {
   "cell_type": "markdown",
   "metadata": {},
   "source": [
    "# CSV file processing"
   ]
  },
  {
   "cell_type": "markdown",
   "metadata": {},
   "source": [
    "In this notebook I'll test the macro, written in python, used for converting a ROOT structure (Tree) into a CSV file for ML analysis."
   ]
  },
  {
   "cell_type": "markdown",
   "metadata": {},
   "source": [
    "The CSV is located inside the directory output, created by the python macro **examplemacro.py**:"
   ]
  },
  {
   "cell_type": "code",
   "execution_count": null,
   "metadata": {
    "scrolled": false
   },
   "outputs": [],
   "source": [
    "!ls ../MuonPOGAnalysisTemplate/"
   ]
  },
  {
   "cell_type": "code",
   "execution_count": null,
   "metadata": {},
   "outputs": [],
   "source": [
    "%cd ../MuonPOGAnalysisTemplate/output\n",
    "!head -5 output_muons.csv"
   ]
  },
  {
   "cell_type": "markdown",
   "metadata": {},
   "source": [
    "To analyze it, we need the ROOT python module and pandas for the CSV analysis:"
   ]
  },
  {
   "cell_type": "code",
   "execution_count": null,
   "metadata": {},
   "outputs": [],
   "source": [
    "import pandas as pd\n",
    "import numpy as np\n",
    "import matplotlib.pyplot as plt\n",
    "import progressbar"
   ]
  },
  {
   "cell_type": "markdown",
   "metadata": {},
   "source": [
    "Now we need to read the CSV:"
   ]
  },
  {
   "cell_type": "code",
   "execution_count": null,
   "metadata": {},
   "outputs": [],
   "source": [
    "df2 = pd.read_csv('./output_muons.csv')\n",
    "df2"
   ]
  },
  {
   "cell_type": "markdown",
   "metadata": {},
   "source": [
    "We sort the dataframe with ascending order of sector primitive"
   ]
  },
  {
   "cell_type": "code",
   "execution_count": null,
   "metadata": {},
   "outputs": [],
   "source": [
    "df2 = df2.sort_values([\"Event\",\"dtPrimitive.id_r\"])\n",
    "df2 = df2.reset_index(drop=True)\n",
    "df2\n",
    "#df2[\"dtPrimitive.phiB\"] = df2[\"dtPrimitive.phiGlb()\"] + df2[\"dtPrimitive.phiB\"]/512."
   ]
  },
  {
   "cell_type": "markdown",
   "metadata": {},
   "source": [
    "### Change CSV structure for a suitable ML format"
   ]
  },
  {
   "cell_type": "markdown",
   "metadata": {},
   "source": [
    "Using the following code, the structure of the input CSV changes. Instead of considering each line as a single primitive, now each line represents a single event (with multiple primitives structured by columns)."
   ]
  },
  {
   "cell_type": "markdown",
   "metadata": {},
   "source": [
    "The main difference, therefore, is an increasing number of columns: one for each primitive."
   ]
  },
  {
   "cell_type": "code",
   "execution_count": null,
   "metadata": {},
   "outputs": [],
   "source": [
    "bar = progressbar.ProgressBar(maxval=len(df2.index), widgets = [progressbar.Bar('=','[',']'), '', progressbar.Percentage()])\n",
    "bar.start()\n",
    "a = 1\n",
    "temp = 0\n",
    "new_column = []\n",
    "row_list=[]\n",
    "final_row=[]\n",
    "for column in df2.columns.values.tolist():\n",
    "    if column==df2.columns.values.tolist()[0]:\n",
    "        new_column.append(column)\n",
    "        new_column.append(\"n_Primitive\")\n",
    "        continue\n",
    "    for count in range(1,5):\n",
    "        if \"()\" in column:\n",
    "            column = column.replace(\"()\", \"\")\n",
    "        new_column.append(str(count) + column)\n",
    "df = pd.DataFrame(columns=new_column)\n",
    "for index, row in df2.iterrows():\n",
    "    if (row[\"Event\"] == a):\n",
    "        if row[\"dtPrimitive.id_r\"] > temp:\n",
    "            row_list.append(row.tolist())\n",
    "            temp = row[\"dtPrimitive.id_r\"]\n",
    "            continue\n",
    "        del row_list[:]\n",
    "        temp = 999\n",
    "        continue\n",
    "    elif(row[\"Event\"] != a):\n",
    "        for i in range(0,len(df2.columns)):\n",
    "            if not row_list:\n",
    "                continue\n",
    "            if i==0:\n",
    "                final_row.append(row_list[0][0])\n",
    "                final_row.append(len(row_list))\n",
    "                continue\n",
    "            for j in range(0,len(row_list)):\n",
    "                if len(row_list)==4:\n",
    "                    final_row.append(row_list[j][i])\n",
    "                else:\n",
    "                    final_row.append(row_list[j][i])\n",
    "                    if j==len(row_list)-1:\n",
    "                        final_row += [np.nan]*(4-len(row_list))\n",
    "        a = row[\"Event\"]\n",
    "        if len(row_list) <=4:\n",
    "            if final_row:\n",
    "                df.loc[row[\"Event\"]-1] = final_row\n",
    "        del row_list[:]\n",
    "        del final_row[:]\n",
    "        temp = 0\n",
    "        row_list.append(row.tolist())\n",
    "    bar.update(index+1)\n",
    "\n",
    "for i in range(0,len(df2.columns)):\n",
    "    if not row_list:\n",
    "        continue\n",
    "    if i==0:\n",
    "        final_row.append(row_list[0][0])\n",
    "        final_row.append(len(row_list))\n",
    "        continue\n",
    "    for j in range(0,len(row_list)):\n",
    "        if len(row_list)==4:\n",
    "            final_row.append(row_list[j][i])\n",
    "        else:\n",
    "            final_row.append(row_list[j][i])\n",
    "            if j==len(row_list)-1:\n",
    "                final_row += [np.nan]*(4-len(row_list))\n",
    "if len(row_list) <=4:\n",
    "    if final_row:\n",
    "        df.loc[row[\"Event\"]] = final_row\n",
    "bar.finish()"
   ]
  },
  {
   "cell_type": "markdown",
   "metadata": {},
   "source": [
    "Next it is important to remove the column that aren't essential such as genParticle duplicate"
   ]
  },
  {
   "cell_type": "code",
   "execution_count": null,
   "metadata": {},
   "outputs": [],
   "source": [
    "df = df.rename(columns = {\"1genParticle.pt\":\"genParticle.pt\",\"1genParticle.phi\":\"genParticle.phi\",\"1genParticle.eta\":\"genParticle.eta\",\"1genParticle.pdgId\":\"genParticle.pdgId\",\"1genParticle.status\":\"genParticle.status\"})"
   ]
  },
  {
   "cell_type": "code",
   "execution_count": null,
   "metadata": {},
   "outputs": [],
   "source": [
    "for column in df.columns.values.tolist():\n",
    "    if column[0] == '5':\n",
    "        df = df.drop(column,axis=1)"
   ]
  },
  {
   "cell_type": "code",
   "execution_count": null,
   "metadata": {},
   "outputs": [],
   "source": [
    "for i in range(2,5):\n",
    "    title = str(i) + \"l1Muon.pt\"\n",
    "    df = df.drop(title,1)"
   ]
  },
  {
   "cell_type": "code",
   "execution_count": null,
   "metadata": {},
   "outputs": [],
   "source": [
    "for i in range(2,5):\n",
    "    title = str(i) + \"genParticle.pt\"\n",
    "    df = df.drop(title,1)"
   ]
  },
  {
   "cell_type": "code",
   "execution_count": null,
   "metadata": {},
   "outputs": [],
   "source": [
    "for i in range(2,5):\n",
    "    title = str(i) + \"genParticle.eta\"\n",
    "    df = df.drop(title,1)"
   ]
  },
  {
   "cell_type": "code",
   "execution_count": null,
   "metadata": {},
   "outputs": [],
   "source": [
    "for i in range(2,5):\n",
    "    title = str(i) + \"genParticle.phi\"\n",
    "    df = df.drop(title,1)"
   ]
  },
  {
   "cell_type": "code",
   "execution_count": null,
   "metadata": {},
   "outputs": [],
   "source": [
    "for i in range(2,5):\n",
    "    title = str(i) + \"genParticle.pdgId\"\n",
    "    df = df.drop(title,1)"
   ]
  },
  {
   "cell_type": "code",
   "execution_count": null,
   "metadata": {},
   "outputs": [],
   "source": [
    "for i in range(2,5):\n",
    "    title = str(i) + \"genParticle.status\"\n",
    "    df = df.drop(title,1)"
   ]
  },
  {
   "cell_type": "markdown",
   "metadata": {},
   "source": [
    "Insert columns relative to delta phi angles between sectors."
   ]
  },
  {
   "cell_type": "code",
   "execution_count": null,
   "metadata": {},
   "outputs": [],
   "source": [
    "cols = df.columns.values.tolist()\n",
    "df.insert(len(cols)-1,\"delta_phi34\", abs(df[\"3dtPrimitive.phiGlb\"]-df[\"4dtPrimitive.phiGlb\"]))\n",
    "df.insert(len(cols)-1,\"delta_phi24\", abs(df[\"2dtPrimitive.phiGlb\"]-df[\"4dtPrimitive.phiGlb\"]))\n",
    "df.insert(len(cols)-1,\"delta_phi23\", abs(df[\"2dtPrimitive.phiGlb\"]-df[\"3dtPrimitive.phiGlb\"]))\n",
    "df.insert(len(cols)-1,\"delta_phi14\", abs(df[\"1dtPrimitive.phiGlb\"]-df[\"4dtPrimitive.phiGlb\"]))\n",
    "df.insert(len(cols)-1,\"delta_phi13\", abs(df[\"1dtPrimitive.phiGlb\"]-df[\"3dtPrimitive.phiGlb\"]))\n",
    "df.insert(len(cols)-1,\"delta_phi12\", abs(df[\"1dtPrimitive.phiGlb\"]-df[\"2dtPrimitive.phiGlb\"]))"
   ]
  },
  {
   "cell_type": "code",
   "execution_count": null,
   "metadata": {},
   "outputs": [],
   "source": [
    "for column in df.columns.values.tolist():\n",
    "    if \"phiGlb\" in column:\n",
    "        df = df.drop(column,axis=1)"
   ]
  },
  {
   "cell_type": "markdown",
   "metadata": {},
   "source": [
    "Let's plot a correlation matrix for each variable inside the csv:"
   ]
  },
  {
   "cell_type": "code",
   "execution_count": null,
   "metadata": {},
   "outputs": [],
   "source": [
    "def plot_corr(df,size=10):\n",
    "    '''Function plots a graphical correlation matrix for each pair of columns in the dataframe.\n",
    "\n",
    "    Input:\n",
    "        df: pandas DataFrame\n",
    "        size: vertical and horizontal size of the plot'''\n",
    "\n",
    "    corr = df.corr()\n",
    "    fig, ax = plt.subplots(figsize=(size, size))\n",
    "    ax.matshow(corr)\n",
    "    plt.xticks(range(len(corr.columns)), corr.columns,rotation=90);\n",
    "    plt.yticks(range(len(corr.columns)), corr.columns);\n",
    "    plt.imshow(corr, aspect=1)"
   ]
  },
  {
   "cell_type": "code",
   "execution_count": null,
   "metadata": {},
   "outputs": [],
   "source": [
    "plot_corr(df)\n",
    "plt.colorbar()\n",
    "plt.show()"
   ]
  },
  {
   "cell_type": "markdown",
   "metadata": {},
   "source": [
    "Then put the organized table inside a csv file."
   ]
  },
  {
   "cell_type": "code",
   "execution_count": null,
   "metadata": {},
   "outputs": [],
   "source": [
    "df"
   ]
  },
  {
   "cell_type": "code",
   "execution_count": null,
   "metadata": {},
   "outputs": [],
   "source": [
    "df.to_csv(\"/Users/tommaso/TESI_MAGISTRALE/MuonPOGAnalysisTemplate/output/bxcut_full_3.csv\",na_rep=0,index=False)"
   ]
  }
 ],
 "metadata": {
  "kernelspec": {
   "display_name": "Python 2",
   "language": "python",
   "name": "python2"
  },
  "language_info": {
   "codemirror_mode": {
    "name": "ipython",
    "version": 2
   },
   "file_extension": ".py",
   "mimetype": "text/x-python",
   "name": "python",
   "nbconvert_exporter": "python",
   "pygments_lexer": "ipython2",
   "version": "2.7.14"
  }
 },
 "nbformat": 4,
 "nbformat_minor": 2
}
