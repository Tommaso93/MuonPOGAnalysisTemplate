{
 "cells": [
  {
   "cell_type": "markdown",
   "metadata": {},
   "source": [
    "# Test of CSV file produced using ROOT converter"
   ]
  },
  {
   "cell_type": "markdown",
   "metadata": {},
   "source": [
    "In this notebook I'll test the macro, written in python, used for converting a ROOT structure (Tree) into a CSV file for ML analysis."
   ]
  },
  {
   "cell_type": "markdown",
   "metadata": {},
   "source": [
    "The CSV is located inside the directory output, created by the python macro **examplemacro.py**:"
   ]
  },
  {
   "cell_type": "code",
   "execution_count": 1,
   "metadata": {},
   "outputs": [
    {
     "name": "stdout",
     "output_type": "stream",
     "text": [
      "\u001b[34mJupyter_Notebooks_miscellaneous\u001b[m\u001b[m \u001b[31mexampleMacro.py\u001b[m\u001b[m\r\n",
      "MuonTree.root                   \u001b[34minterface\u001b[m\u001b[m\r\n",
      "README.md                       \u001b[34moutput\u001b[m\u001b[m\r\n",
      "\u001b[34mconfig\u001b[m\u001b[m                          \u001b[34mresults\u001b[m\u001b[m\r\n",
      "\u001b[31mexampleMacro\u001b[m\u001b[m                    tdrstyle.C\r\n",
      "exampleMacro.C\r\n"
     ]
    }
   ],
   "source": [
    "!ls /Users/tommaso/TESI_MAGISTRALE/MuonPOGAnalysisTemplate/"
   ]
  },
  {
   "cell_type": "code",
   "execution_count": 2,
   "metadata": {},
   "outputs": [
    {
     "name": "stdout",
     "output_type": "stream",
     "text": [
      "/Users/tommaso/TESI_MAGISTRALE/MuonPOGAnalysisTemplate/output\n",
      "Event,dtPrimitive.id_r,dtPrimitive.id_eta,dtPrimitive.id_phi,dtPrimitive.bxTrackFinder(),dtPrimitive.phiGlb(),genParticle.pt\r",
      "\r\n",
      "1,1,1,2,0,0.5475245714187622,9.452828407287598\r",
      "\r\n",
      "1,2,1,2,0,0.5196925401687622,9.452828407287598\r",
      "\r\n",
      "1,3,2,2,0,0.4994288682937622,9.452828407287598\r",
      "\r\n",
      "1,4,2,2,0,0.4896632432937622,9.452828407287598\r",
      "\r\n"
     ]
    }
   ],
   "source": [
    "%cd /Users/tommaso/TESI_MAGISTRALE/MuonPOGAnalysisTemplate/output\n",
    "!head -5 output_bxcut.csv"
   ]
  },
  {
   "cell_type": "markdown",
   "metadata": {},
   "source": [
    "To analyze it, we need the ROOT python module and pandas for the CSV analysis:"
   ]
  },
  {
   "cell_type": "code",
   "execution_count": 3,
   "metadata": {},
   "outputs": [
    {
     "name": "stdout",
     "output_type": "stream",
     "text": [
      "Welcome to JupyROOT 6.12/04\n"
     ]
    }
   ],
   "source": [
    "from ROOT import TCanvas,TH1F\n",
    "import pandas as pd\n",
    "import numpy as np"
   ]
  },
  {
   "cell_type": "markdown",
   "metadata": {},
   "source": [
    "Now we need to read the CSV:"
   ]
  },
  {
   "cell_type": "code",
   "execution_count": 4,
   "metadata": {},
   "outputs": [],
   "source": [
    "df2 = pd.read_csv('./output_bxcut.csv')"
   ]
  },
  {
   "cell_type": "markdown",
   "metadata": {},
   "source": [
    "This creates a pandas db that can be displayed showing its content:"
   ]
  },
  {
   "cell_type": "code",
   "execution_count": 5,
   "metadata": {},
   "outputs": [],
   "source": [
    "a = 1\n",
    "new_column = []\n",
    "row_list=[]\n",
    "final_row=[]\n",
    "for column in df2.columns.values.tolist():\n",
    "    if column==df2.columns.values.tolist()[0]:\n",
    "        new_column.append(column)\n",
    "        new_column.append(\"n_Primitive\")\n",
    "        continue\n",
    "    for count in range(1,df2[\"Event\"].value_counts().max()+1):\n",
    "        new_column.append(column + str(count))\n",
    "\n",
    "df = pd.DataFrame(columns=new_column)\n",
    "for index, row in df2.iterrows():\n",
    "    if (row[\"Event\"] == a):\n",
    "        row_list.append(row.tolist())\n",
    "        continue\n",
    "    elif(row[\"Event\"] != a):\n",
    "        for i in range(0,len(df2.columns)):\n",
    "            if i==0:\n",
    "                final_row.append(row_list[0][0])\n",
    "                final_row.append(len(row_list))\n",
    "                continue\n",
    "            for j in range(0,len(row_list)):\n",
    "                final_row.append(row_list[j][i])\n",
    "                if j == len(row_list)-1:   \n",
    "                    if len(row_list) != df2[\"Event\"].value_counts().max():\n",
    "                        final_row += [np.nan]*(df2[\"Event\"].value_counts().max()-len(row_list))\n",
    "        a = row[\"Event\"]\n",
    "        df.loc[row[\"Event\"]-1] = final_row\n",
    "        del row_list[:]\n",
    "        del final_row[:]\n",
    "        row_list.append(row.tolist())\n",
    "\n",
    "for i in range(0,len(df2.columns)):\n",
    "    if i==0:\n",
    "        final_row.append(row_list[0][0])\n",
    "        final_row.append(len(row_list))\n",
    "        continue\n",
    "    for j in range(0,len(row_list)):\n",
    "        final_row.append(row_list[j][i])\n",
    "        if j == len(row_list)-1:   \n",
    "            if len(row_list) != df2[\"Event\"].value_counts().max():\n",
    "                final_row += [np.nan]*(df2[\"Event\"].value_counts().max()-len(row_list))\n",
    "df.loc[row[\"Event\"]] = final_row"
   ]
  },
  {
   "cell_type": "code",
   "execution_count": 6,
   "metadata": {},
   "outputs": [],
   "source": [
    "df = df.rename(columns = {\"genParticle.pt1\":\"genParticle.pt\"})"
   ]
  },
  {
   "cell_type": "code",
   "execution_count": 7,
   "metadata": {},
   "outputs": [],
   "source": [
    "for i in range(2,df2[\"Event\"].value_counts().max()+1):\n",
    "    title = \"genParticle.pt\" + str(i)\n",
    "    df = df.drop(title,1)"
   ]
  },
  {
   "cell_type": "markdown",
   "metadata": {},
   "source": [
    "Then put the organized table inside a csv file."
   ]
  },
  {
   "cell_type": "code",
   "execution_count": 10,
   "metadata": {},
   "outputs": [],
   "source": [
    "df.to_csv(\"/Users/tommaso/TESI_MAGISTRALE/MuonPOGAnalysisTemplate/output/bxcut_org.csv\",na_rep=0,index=False)"
   ]
  },
  {
   "cell_type": "code",
   "execution_count": null,
   "metadata": {},
   "outputs": [],
   "source": []
  }
 ],
 "metadata": {
  "kernelspec": {
   "display_name": "Python 2",
   "language": "python",
   "name": "python2"
  },
  "language_info": {
   "codemirror_mode": {
    "name": "ipython",
    "version": 2
   },
   "file_extension": ".py",
   "mimetype": "text/x-python",
   "name": "python",
   "nbconvert_exporter": "python",
   "pygments_lexer": "ipython2",
   "version": "2.7.14"
  }
 },
 "nbformat": 4,
 "nbformat_minor": 2
}
